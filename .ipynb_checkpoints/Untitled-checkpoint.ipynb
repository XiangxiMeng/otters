{
 "cells": [
  {
   "cell_type": "code",
   "execution_count": 1,
   "metadata": {},
   "outputs": [],
   "source": [
    "%config Completer.use_jedi = False"
   ]
  },
  {
   "cell_type": "markdown",
   "metadata": {},
   "source": [
    "how to check if two nodes are equal\n",
    "\n",
    "1. if children, all children equal\n",
    "\n",
    "2. if not children, themselves equal"
   ]
  },
  {
   "cell_type": "code",
   "execution_count": 111,
   "metadata": {},
   "outputs": [],
   "source": [
    "import jedi\n",
    "import parso\n",
    "from IPython.display import display, Markdown"
   ]
  },
  {
   "cell_type": "code",
   "execution_count": 109,
   "metadata": {},
   "outputs": [],
   "source": [
    "code = \"\"\"A = GET_SERIES('299013764')\n",
    "B = LOG_CHANGE(\n",
    "    A\n",
    ")[1:2]\n",
    "\"\"\""
   ]
  },
  {
   "cell_type": "code",
   "execution_count": 110,
   "metadata": {},
   "outputs": [],
   "source": [
    "code2 = \"\"\"A = GET_SERIES('299013764')\n",
    "B = LOG_CHANGE(A)\n",
    "C = GET_SERIES('299013764', 'FIXINGS')\n",
    "\"\"\""
   ]
  },
  {
   "cell_type": "code",
   "execution_count": 97,
   "metadata": {},
   "outputs": [],
   "source": []
  },
  {
   "cell_type": "code",
   "execution_count": 98,
   "metadata": {},
   "outputs": [],
   "source": [
    "module = grammar.parse(code)\n",
    "module2 = grammar.parse(code2)"
   ]
  },
  {
   "cell_type": "code",
   "execution_count": null,
   "metadata": {},
   "outputs": [],
   "source": [
    "s = [(module, 0)]\n",
    "while len(s) > 0:\n",
    "    node, sep = s.pop()\n",
    "    if hasattr(node, 'value'):\n",
    "        print('  '*sep, node.value)\n",
    "    if hasattr(node, 'children'):\n",
    "        for n in reversed(node.children):\n",
    "            s.append((n, sep + 1))"
   ]
  },
  {
   "cell_type": "code",
   "execution_count": 99,
   "metadata": {},
   "outputs": [],
   "source": [
    "def lev_map(s, t, equal_func=lambda x,y: x==y):\n",
    "    ls, lt = len(s), len(t)\n",
    "    d = [[0]*(lt+1) for i in range(ls+1)]\n",
    "    for i in range(1, ls+1):\n",
    "        d[i][0] = i\n",
    "    for j in range(1, lt+1):\n",
    "        d[0][j] = j\n",
    "    for j in range(1, lt+1):\n",
    "        for i in range(1, ls+1):\n",
    "            subCost = 0 if equal_func(s[i-1], t[j-1]) else 1\n",
    "            d[i][j] = min(d[i-1][j] + 1, d[i][j-1] + 1, d[i-1][j-1] + subCost)\n",
    "    return d"
   ]
  },
  {
   "cell_type": "code",
   "execution_count": 100,
   "metadata": {},
   "outputs": [],
   "source": [
    "def mark_map(s, t, equal_func=lambda x,y: x==y):\n",
    "    g = lev_map(s, t, equal_func)\n",
    "    ls, lt = len(s), len(t)\n",
    "    new_t = []\n",
    "    while ls >=1 and lt >=1:\n",
    "#         make ls-1, lt-1 first to minimize\n",
    "        x,y,o = min([(ls-1, lt-1, 0), (ls, lt-1, 1), (ls-1, lt, -1)], key=lambda p: g[p[0]][p[1]])\n",
    "        if g[x][y] == g[ls][lt]:\n",
    "            new_t.append((t[y], None))\n",
    "            ls, lt = x, y\n",
    "            continue\n",
    "        if o == -1:\n",
    "            new_t.append((s[x], o))\n",
    "        elif o == 0:\n",
    "            new_t.append((t[y], o))\n",
    "        else:\n",
    "            new_t.append((t[y], o))\n",
    "        ls, lt = x, y\n",
    "    return list(reversed(new_t))"
   ]
  },
  {
   "cell_type": "code",
   "execution_count": 101,
   "metadata": {},
   "outputs": [],
   "source": [
    "def printc(s, color: int):\n",
    "    if color is None:\n",
    "        display(Markdown(s))\n",
    "    else:\n",
    "        c = ['red', 'blue', 'green']\n",
    "        display(Markdown(f\"<span style='color:{c[color+1]}'>{s}</span>\"))"
   ]
  },
  {
   "cell_type": "code",
   "execution_count": 102,
   "metadata": {},
   "outputs": [],
   "source": [
    "def get_all_leaves(m):\n",
    "    r = []\n",
    "    l = m.get_first_leaf()\n",
    "    while l is not None:\n",
    "        r.append(l)\n",
    "        l = l.get_next_leaf()\n",
    "    return r"
   ]
  },
  {
   "cell_type": "code",
   "execution_count": 103,
   "metadata": {},
   "outputs": [],
   "source": [
    "g = mark_map(get_all_leaves(module), get_all_leaves(module2), lambda x,y: x.value==y.value and x.type == y.type)"
   ]
  },
  {
   "cell_type": "code",
   "execution_count": 104,
   "metadata": {},
   "outputs": [
    {
     "data": {
      "text/markdown": [
       "A"
      ],
      "text/plain": [
       "<IPython.core.display.Markdown object>"
      ]
     },
     "metadata": {},
     "output_type": "display_data"
    },
    {
     "data": {
      "text/markdown": [
       "="
      ],
      "text/plain": [
       "<IPython.core.display.Markdown object>"
      ]
     },
     "metadata": {},
     "output_type": "display_data"
    },
    {
     "data": {
      "text/markdown": [
       "GET_SERIES"
      ],
      "text/plain": [
       "<IPython.core.display.Markdown object>"
      ]
     },
     "metadata": {},
     "output_type": "display_data"
    },
    {
     "data": {
      "text/markdown": [
       "("
      ],
      "text/plain": [
       "<IPython.core.display.Markdown object>"
      ]
     },
     "metadata": {},
     "output_type": "display_data"
    },
    {
     "data": {
      "text/markdown": [
       "'299013764'"
      ],
      "text/plain": [
       "<IPython.core.display.Markdown object>"
      ]
     },
     "metadata": {},
     "output_type": "display_data"
    },
    {
     "data": {
      "text/markdown": [
       ","
      ],
      "text/plain": [
       "<IPython.core.display.Markdown object>"
      ]
     },
     "metadata": {},
     "output_type": "display_data"
    },
    {
     "data": {
      "text/markdown": [
       "'FIXINGS'"
      ],
      "text/plain": [
       "<IPython.core.display.Markdown object>"
      ]
     },
     "metadata": {},
     "output_type": "display_data"
    },
    {
     "data": {
      "text/markdown": [
       ")"
      ],
      "text/plain": [
       "<IPython.core.display.Markdown object>"
      ]
     },
     "metadata": {},
     "output_type": "display_data"
    },
    {
     "data": {
      "text/markdown": [
       "\n"
      ],
      "text/plain": [
       "<IPython.core.display.Markdown object>"
      ]
     },
     "metadata": {},
     "output_type": "display_data"
    },
    {
     "data": {
      "text/markdown": [
       "B"
      ],
      "text/plain": [
       "<IPython.core.display.Markdown object>"
      ]
     },
     "metadata": {},
     "output_type": "display_data"
    },
    {
     "data": {
      "text/markdown": [
       "="
      ],
      "text/plain": [
       "<IPython.core.display.Markdown object>"
      ]
     },
     "metadata": {},
     "output_type": "display_data"
    },
    {
     "data": {
      "text/markdown": [
       "LOG_CHANGE"
      ],
      "text/plain": [
       "<IPython.core.display.Markdown object>"
      ]
     },
     "metadata": {},
     "output_type": "display_data"
    },
    {
     "data": {
      "text/markdown": [
       "("
      ],
      "text/plain": [
       "<IPython.core.display.Markdown object>"
      ]
     },
     "metadata": {},
     "output_type": "display_data"
    },
    {
     "data": {
      "text/markdown": [
       "A"
      ],
      "text/plain": [
       "<IPython.core.display.Markdown object>"
      ]
     },
     "metadata": {},
     "output_type": "display_data"
    },
    {
     "data": {
      "text/markdown": [
       ")"
      ],
      "text/plain": [
       "<IPython.core.display.Markdown object>"
      ]
     },
     "metadata": {},
     "output_type": "display_data"
    },
    {
     "data": {
      "text/markdown": [
       "<span style='color:green'>\n",
       "</span>"
      ],
      "text/plain": [
       "<IPython.core.display.Markdown object>"
      ]
     },
     "metadata": {},
     "output_type": "display_data"
    },
    {
     "data": {
      "text/markdown": [
       "<span style='color:green'>C</span>"
      ],
      "text/plain": [
       "<IPython.core.display.Markdown object>"
      ]
     },
     "metadata": {},
     "output_type": "display_data"
    },
    {
     "data": {
      "text/markdown": [
       "<span style='color:green'>=</span>"
      ],
      "text/plain": [
       "<IPython.core.display.Markdown object>"
      ]
     },
     "metadata": {},
     "output_type": "display_data"
    },
    {
     "data": {
      "text/markdown": [
       "<span style='color:green'>GET_SERIES</span>"
      ],
      "text/plain": [
       "<IPython.core.display.Markdown object>"
      ]
     },
     "metadata": {},
     "output_type": "display_data"
    },
    {
     "data": {
      "text/markdown": [
       "<span style='color:blue'>(</span>"
      ],
      "text/plain": [
       "<IPython.core.display.Markdown object>"
      ]
     },
     "metadata": {},
     "output_type": "display_data"
    },
    {
     "data": {
      "text/markdown": [
       "<span style='color:blue'>'299013764'</span>"
      ],
      "text/plain": [
       "<IPython.core.display.Markdown object>"
      ]
     },
     "metadata": {},
     "output_type": "display_data"
    },
    {
     "data": {
      "text/markdown": [
       "<span style='color:blue'>,</span>"
      ],
      "text/plain": [
       "<IPython.core.display.Markdown object>"
      ]
     },
     "metadata": {},
     "output_type": "display_data"
    },
    {
     "data": {
      "text/markdown": [
       "<span style='color:blue'>'FIXINGS'</span>"
      ],
      "text/plain": [
       "<IPython.core.display.Markdown object>"
      ]
     },
     "metadata": {},
     "output_type": "display_data"
    },
    {
     "data": {
      "text/markdown": [
       "<span style='color:blue'>)</span>"
      ],
      "text/plain": [
       "<IPython.core.display.Markdown object>"
      ]
     },
     "metadata": {},
     "output_type": "display_data"
    },
    {
     "data": {
      "text/markdown": [
       "\n"
      ],
      "text/plain": [
       "<IPython.core.display.Markdown object>"
      ]
     },
     "metadata": {},
     "output_type": "display_data"
    },
    {
     "data": {
      "text/markdown": [],
      "text/plain": [
       "<IPython.core.display.Markdown object>"
      ]
     },
     "metadata": {},
     "output_type": "display_data"
    }
   ],
   "source": [
    "for i in g:\n",
    "    printc(i[0].value, i[1])"
   ]
  },
  {
   "cell_type": "code",
   "execution_count": 106,
   "metadata": {},
   "outputs": [
    {
     "data": {
      "text/plain": [
       "[<Name: A@1,0>,\n",
       " <Operator: =>,\n",
       " <Name: GET_SERIES@1,4>,\n",
       " <Operator: (>,\n",
       " <String: '299013764'>,\n",
       " <Operator: ,>,\n",
       " <String: 'FIXINGS'>,\n",
       " <Operator: )>,\n",
       " <Newline: '\\n'>,\n",
       " <Name: B@2,0>,\n",
       " <Operator: =>,\n",
       " <Name: LOG_CHANGE@2,4>,\n",
       " <Operator: (>,\n",
       " <Name: A@2,15>,\n",
       " <Operator: )>,\n",
       " <Newline: '\\n'>,\n",
       " <Name: C@3,0>,\n",
       " <Operator: =>,\n",
       " <Name: GET_SERIES@3,4>,\n",
       " <Operator: (>,\n",
       " <String: '299013764'>,\n",
       " <Operator: ,>,\n",
       " <String: 'FIXINGS'>,\n",
       " <Operator: )>,\n",
       " <Newline: '\\n'>,\n",
       " <EndMarker: prefix='' end_pos=(4, 0)>]"
      ]
     },
     "execution_count": 106,
     "metadata": {},
     "output_type": "execute_result"
    }
   ],
   "source": [
    "get_all_leaves(module2)"
   ]
  },
  {
   "cell_type": "code",
   "execution_count": null,
   "metadata": {},
   "outputs": [],
   "source": []
  }
 ],
 "metadata": {
  "kernelspec": {
   "display_name": "Python 3",
   "language": "python",
   "name": "python3"
  },
  "language_info": {
   "codemirror_mode": {
    "name": "ipython",
    "version": 3
   },
   "file_extension": ".py",
   "mimetype": "text/x-python",
   "name": "python",
   "nbconvert_exporter": "python",
   "pygments_lexer": "ipython3",
   "version": "3.6.12"
  }
 },
 "nbformat": 4,
 "nbformat_minor": 4
}
