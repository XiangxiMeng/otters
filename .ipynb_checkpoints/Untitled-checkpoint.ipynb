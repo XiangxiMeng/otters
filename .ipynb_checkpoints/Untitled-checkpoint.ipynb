{
 "cells": [
  {
   "cell_type": "code",
   "execution_count": 1,
   "metadata": {},
   "outputs": [],
   "source": [
    "%config Completer.use_jedi = False"
   ]
  },
  {
   "cell_type": "markdown",
   "metadata": {},
   "source": [
    "how to check if two nodes are equal\n",
    "\n",
    "1. if children, all children equal\n",
    "\n",
    "2. if not children, themselves equal"
   ]
  },
  {
   "cell_type": "code",
   "execution_count": 43,
   "metadata": {},
   "outputs": [],
   "source": [
    "import jedi\n",
    "import parso\n",
    "from IPython.display import Markdown"
   ]
  },
  {
   "cell_type": "code",
   "execution_count": 3,
   "metadata": {},
   "outputs": [],
   "source": [
    "code = \"\"\"A = GET_SERIES('299013764', 'FIXINGS')\n",
    "B = LOG_CHANGE(A)[1:2]\n",
    "C = GET_SERIES('299013764', 'FIXINGS')\n",
    "\"\"\""
   ]
  },
  {
   "cell_type": "code",
   "execution_count": 4,
   "metadata": {},
   "outputs": [],
   "source": [
    "code2 = \"\"\"A = GET_SERIES('299013764', 'FIXINGS')\n",
    "B = LOG_CHANGE(A)\n",
    "C = GET_SERIES('299013764', 'FIXINGS')\n",
    "\"\"\""
   ]
  },
  {
   "cell_type": "code",
   "execution_count": 5,
   "metadata": {},
   "outputs": [],
   "source": [
    "grammar = parso.load_grammar(version='3.6')"
   ]
  },
  {
   "cell_type": "code",
   "execution_count": 6,
   "metadata": {},
   "outputs": [],
   "source": [
    "module = grammar.parse(code)\n",
    "module2 = grammar.parse(code2)"
   ]
  },
  {
   "cell_type": "code",
   "execution_count": 7,
   "metadata": {},
   "outputs": [
    {
     "name": "stdout",
     "output_type": "stream",
     "text": [
      " <Module: @1-4>\n",
      "   PythonNode(simple_stmt, [<ExprStmt: A = GET_SERIES('299013764', 'FIXINGS')@1,0>, <Newline: '\\n'>])\n",
      "     <ExprStmt: A = GET_SERIES('299013764', 'FIXINGS')@1,0>\n",
      "       <Name: A@1,0>\n",
      "       <Operator: =>\n",
      "       PythonNode(atom_expr, [<Name: GET_SERIES@1,4>, PythonNode(trailer, [<Operator: (>, PythonNode(arglist, [<String: '299013764'>, <Operator: ,>, <String: 'FIXINGS'>]), <Operator: )>])])\n",
      "         <Name: GET_SERIES@1,4>\n",
      "         PythonNode(trailer, [<Operator: (>, PythonNode(arglist, [<String: '299013764'>, <Operator: ,>, <String: 'FIXINGS'>]), <Operator: )>])\n",
      "           <Operator: (>\n",
      "           PythonNode(arglist, [<String: '299013764'>, <Operator: ,>, <String: 'FIXINGS'>])\n",
      "             <String: '299013764'>\n",
      "             <Operator: ,>\n",
      "             <String: 'FIXINGS'>\n",
      "           <Operator: )>\n",
      "     <Newline: '\\n'>\n",
      "   PythonNode(simple_stmt, [<ExprStmt: B = LOG_CHANGE(A)[1:2]@2,0>, <Newline: '\\n'>])\n",
      "     <ExprStmt: B = LOG_CHANGE(A)[1:2]@2,0>\n",
      "       <Name: B@2,0>\n",
      "       <Operator: =>\n",
      "       PythonNode(atom_expr, [<Name: LOG_CHANGE@2,4>, PythonNode(trailer, [<Operator: (>, <Name: A@2,15>, <Operator: )>]), PythonNode(trailer, [<Operator: [>, PythonNode(subscript, [<Number: 1>, <Operator: :>, <Number: 2>]), <Operator: ]>])])\n",
      "         <Name: LOG_CHANGE@2,4>\n",
      "         PythonNode(trailer, [<Operator: (>, <Name: A@2,15>, <Operator: )>])\n",
      "           <Operator: (>\n",
      "           <Name: A@2,15>\n",
      "           <Operator: )>\n",
      "         PythonNode(trailer, [<Operator: [>, PythonNode(subscript, [<Number: 1>, <Operator: :>, <Number: 2>]), <Operator: ]>])\n",
      "           <Operator: [>\n",
      "           PythonNode(subscript, [<Number: 1>, <Operator: :>, <Number: 2>])\n",
      "             <Number: 1>\n",
      "             <Operator: :>\n",
      "             <Number: 2>\n",
      "           <Operator: ]>\n",
      "     <Newline: '\\n'>\n",
      "   PythonNode(simple_stmt, [<ExprStmt: C = GET_SERIES('299013764', 'FIXINGS')@3,0>, <Newline: '\\n'>])\n",
      "     <ExprStmt: C = GET_SERIES('299013764', 'FIXINGS')@3,0>\n",
      "       <Name: C@3,0>\n",
      "       <Operator: =>\n",
      "       PythonNode(atom_expr, [<Name: GET_SERIES@3,4>, PythonNode(trailer, [<Operator: (>, PythonNode(arglist, [<String: '299013764'>, <Operator: ,>, <String: 'FIXINGS'>]), <Operator: )>])])\n",
      "         <Name: GET_SERIES@3,4>\n",
      "         PythonNode(trailer, [<Operator: (>, PythonNode(arglist, [<String: '299013764'>, <Operator: ,>, <String: 'FIXINGS'>]), <Operator: )>])\n",
      "           <Operator: (>\n",
      "           PythonNode(arglist, [<String: '299013764'>, <Operator: ,>, <String: 'FIXINGS'>])\n",
      "             <String: '299013764'>\n",
      "             <Operator: ,>\n",
      "             <String: 'FIXINGS'>\n",
      "           <Operator: )>\n",
      "     <Newline: '\\n'>\n",
      "   <EndMarker: prefix='' end_pos=(4, 0)>\n"
     ]
    }
   ],
   "source": [
    "s = [(module, 0)]\n",
    "while len(s) > 0:\n",
    "    node, sep = s.pop()\n",
    "    print('  '*sep, node)\n",
    "    if hasattr(node, 'children'):\n",
    "        for n in reversed(node.children):\n",
    "            s.append((n, sep + 1))"
   ]
  },
  {
   "cell_type": "code",
   "execution_count": 23,
   "metadata": {},
   "outputs": [],
   "source": [
    "def lev_map(s, t, equal_func=lambda x,y: x==y):\n",
    "    ls, lt = len(s), len(t)\n",
    "    d = [[0]*(lt+1) for i in range(ls+1)]\n",
    "    for i in range(1, ls+1):\n",
    "        d[i][0] = i\n",
    "    for j in range(1, lt+1):\n",
    "        d[0][j] = j\n",
    "    for j in range(1, lt+1):\n",
    "        for i in range(1, ls+1):\n",
    "            subCost = 0 if equal_func(s[i-1], t[j-1]) else 1\n",
    "            d[i][j] = min(d[i-1][j] + 1, d[i][j-1] + 1, d[i-1][j-1] + subCost)\n",
    "    return d"
   ]
  },
  {
   "cell_type": "code",
   "execution_count": 48,
   "metadata": {},
   "outputs": [
    {
     "data": {
      "text/plain": [
       "[[0, 1, 2, 3, 4, 5, 6, 7, 8],\n",
       " [1, 0, 1, 2, 3, 4, 5, 6, 7],\n",
       " [2, 1, 1, 2, 2, 3, 4, 5, 6],\n",
       " [3, 2, 2, 2, 3, 3, 4, 5, 6],\n",
       " [4, 3, 3, 3, 3, 4, 3, 4, 5],\n",
       " [5, 4, 3, 4, 4, 4, 4, 3, 4],\n",
       " [6, 5, 4, 4, 5, 5, 5, 4, 3]]"
      ]
     },
     "execution_count": 48,
     "metadata": {},
     "output_type": "execute_result"
    }
   ],
   "source": [
    "lev_map('Sunday', 'Saturday')"
   ]
  },
  {
   "cell_type": "code",
   "execution_count": 65,
   "metadata": {},
   "outputs": [],
   "source": [
    "def mark_map(s, t, equal_func=lambda x,y: x==y):\n",
    "    g = lev_map(s, t, equal_func)\n",
    "    ls, lt = len(s), len(t)\n",
    "    new_t = []\n",
    "    while ls >=1 and lt >=1:\n",
    "#         make ls-1, lt-1 first to minimize\n",
    "        x,y,o = min([(ls-1, lt-1, 0), (ls, lt-1, 1), (ls-1, lt, -1)], key=lambda p: g[p[0]][p[1]])\n",
    "        if g[x][y] == g[ls][lt]:\n",
    "            print(ls, lt ,'->',x,y, 'None')\n",
    "            new_t.append((t[y], None))\n",
    "            ls, lt = x, y\n",
    "            continue\n",
    "        print(ls, lt ,'->',x,y, o)\n",
    "        if o == -1:\n",
    "            new_t.append((s[x], o))\n",
    "        elif o == 0:\n",
    "            new_t.append((t[y], o))\n",
    "        else:\n",
    "            new_t.append((t[y], o))\n",
    "        ls, lt = x, y\n",
    "    return list(reversed(new_t))"
   ]
  },
  {
   "cell_type": "code",
   "execution_count": 66,
   "metadata": {},
   "outputs": [
    {
     "name": "stdout",
     "output_type": "stream",
     "text": [
      "6 8 -> 5 7 None\n",
      "5 7 -> 4 6 None\n",
      "4 6 -> 3 5 None\n",
      "3 5 -> 2 4 0\n",
      "2 4 -> 1 3 None\n",
      "1 3 -> 1 2 1\n",
      "1 2 -> 1 1 1\n",
      "1 1 -> 0 0 None\n"
     ]
    },
    {
     "data": {
      "text/plain": [
       "[('S', None),\n",
       " ('a', 1),\n",
       " ('t', 1),\n",
       " ('u', None),\n",
       " ('r', 0),\n",
       " ('d', None),\n",
       " ('a', None),\n",
       " ('y', None)]"
      ]
     },
     "execution_count": 66,
     "metadata": {},
     "output_type": "execute_result"
    }
   ],
   "source": [
    "list(mark_map('Sunday', 'Saturday'))"
   ]
  },
  {
   "cell_type": "code",
   "execution_count": 67,
   "metadata": {},
   "outputs": [],
   "source": [
    "def printc(s, color: int):\n",
    "    if color is None:\n",
    "        display(Markdown(s))\n",
    "    else:\n",
    "        c = ['red', 'blue', 'green']\n",
    "        display(Markdown(f\"<span style='color:{c[color+1]}'>{s}</span>\"))"
   ]
  },
  {
   "cell_type": "code",
   "execution_count": 47,
   "metadata": {},
   "outputs": [
    {
     "data": {
      "text/plain": [
       "\u001b[0;31mSignature:\u001b[0m\n",
       "\u001b[0mdisplay\u001b[0m\u001b[0;34m(\u001b[0m\u001b[0;34m\u001b[0m\n",
       "\u001b[0;34m\u001b[0m    \u001b[0;34m*\u001b[0m\u001b[0mobjs\u001b[0m\u001b[0;34m,\u001b[0m\u001b[0;34m\u001b[0m\n",
       "\u001b[0;34m\u001b[0m    \u001b[0minclude\u001b[0m\u001b[0;34m=\u001b[0m\u001b[0;32mNone\u001b[0m\u001b[0;34m,\u001b[0m\u001b[0;34m\u001b[0m\n",
       "\u001b[0;34m\u001b[0m    \u001b[0mexclude\u001b[0m\u001b[0;34m=\u001b[0m\u001b[0;32mNone\u001b[0m\u001b[0;34m,\u001b[0m\u001b[0;34m\u001b[0m\n",
       "\u001b[0;34m\u001b[0m    \u001b[0mmetadata\u001b[0m\u001b[0;34m=\u001b[0m\u001b[0;32mNone\u001b[0m\u001b[0;34m,\u001b[0m\u001b[0;34m\u001b[0m\n",
       "\u001b[0;34m\u001b[0m    \u001b[0mtransient\u001b[0m\u001b[0;34m=\u001b[0m\u001b[0;32mNone\u001b[0m\u001b[0;34m,\u001b[0m\u001b[0;34m\u001b[0m\n",
       "\u001b[0;34m\u001b[0m    \u001b[0mdisplay_id\u001b[0m\u001b[0;34m=\u001b[0m\u001b[0;32mNone\u001b[0m\u001b[0;34m,\u001b[0m\u001b[0;34m\u001b[0m\n",
       "\u001b[0;34m\u001b[0m    \u001b[0;34m**\u001b[0m\u001b[0mkwargs\u001b[0m\u001b[0;34m,\u001b[0m\u001b[0;34m\u001b[0m\n",
       "\u001b[0;34m\u001b[0m\u001b[0;34m)\u001b[0m\u001b[0;34m\u001b[0m\u001b[0;34m\u001b[0m\u001b[0m\n",
       "\u001b[0;31mDocstring:\u001b[0m\n",
       "Display a Python object in all frontends.\n",
       "\n",
       "By default all representations will be computed and sent to the frontends.\n",
       "Frontends can decide which representation is used and how.\n",
       "\n",
       "In terminal IPython this will be similar to using :func:`print`, for use in richer\n",
       "frontends see Jupyter notebook examples with rich display logic.\n",
       "\n",
       "Parameters\n",
       "----------\n",
       "objs : tuple of objects\n",
       "    The Python objects to display.\n",
       "raw : bool, optional\n",
       "    Are the objects to be displayed already mimetype-keyed dicts of raw display data,\n",
       "    or Python objects that need to be formatted before display? [default: False]\n",
       "include : list, tuple or set, optional\n",
       "    A list of format type strings (MIME types) to include in the\n",
       "    format data dict. If this is set *only* the format types included\n",
       "    in this list will be computed.\n",
       "exclude : list, tuple or set, optional\n",
       "    A list of format type strings (MIME types) to exclude in the format\n",
       "    data dict. If this is set all format types will be computed,\n",
       "    except for those included in this argument.\n",
       "metadata : dict, optional\n",
       "    A dictionary of metadata to associate with the output.\n",
       "    mime-type keys in this dictionary will be associated with the individual\n",
       "    representation formats, if they exist.\n",
       "transient : dict, optional\n",
       "    A dictionary of transient data to associate with the output.\n",
       "    Data in this dict should not be persisted to files (e.g. notebooks).\n",
       "display_id : str, bool optional\n",
       "    Set an id for the display.\n",
       "    This id can be used for updating this display area later via update_display.\n",
       "    If given as `True`, generate a new `display_id`\n",
       "kwargs: additional keyword-args, optional\n",
       "    Additional keyword-arguments are passed through to the display publisher.\n",
       "\n",
       "Returns\n",
       "-------\n",
       "\n",
       "handle: DisplayHandle\n",
       "    Returns a handle on updatable displays for use with :func:`update_display`,\n",
       "    if `display_id` is given. Returns :any:`None` if no `display_id` is given\n",
       "    (default).\n",
       "\n",
       "Examples\n",
       "--------\n",
       "\n",
       ">>> class Json(object):\n",
       "...     def __init__(self, json):\n",
       "...         self.json = json\n",
       "...     def _repr_pretty_(self, pp, cycle):\n",
       "...         import json\n",
       "...         pp.text(json.dumps(self.json, indent=2))\n",
       "...     def __repr__(self):\n",
       "...         return str(self.json)\n",
       "...\n",
       "\n",
       ">>> d = Json({1:2, 3: {4:5}})\n",
       "\n",
       ">>> print(d)\n",
       "{1: 2, 3: {4: 5}}\n",
       "\n",
       ">>> display(d)\n",
       "{\n",
       "  \"1\": 2,\n",
       "  \"3\": {\n",
       "    \"4\": 5\n",
       "  }\n",
       "}\n",
       "\n",
       ">>> def int_formatter(integer, pp, cycle):\n",
       "...     pp.text('I'*integer)\n",
       "\n",
       ">>> plain = get_ipython().display_formatter.formatters['text/plain']\n",
       ">>> plain.for_type(int, int_formatter)\n",
       "<function _repr_pprint at 0x...>\n",
       ">>> display(7-5)\n",
       "II\n",
       "\n",
       ">>> del plain.type_printers[int]\n",
       ">>> display(7-5)\n",
       "2\n",
       "\n",
       "See Also\n",
       "--------\n",
       "\n",
       ":func:`update_display`\n",
       "\n",
       "Notes\n",
       "-----\n",
       "\n",
       "In Python, objects can declare their textual representation using the\n",
       "`__repr__` method. IPython expands on this idea and allows objects to declare\n",
       "other, rich representations including:\n",
       "\n",
       "  - HTML\n",
       "  - JSON\n",
       "  - PNG\n",
       "  - JPEG\n",
       "  - SVG\n",
       "  - LaTeX\n",
       "\n",
       "A single object can declare some or all of these representations; all are\n",
       "handled by IPython's display system.\n",
       "\n",
       "The main idea of the first approach is that you have to implement special\n",
       "display methods when you define your class, one for each representation you\n",
       "want to use. Here is a list of the names of the special methods and the\n",
       "values they must return:\n",
       "\n",
       "  - `_repr_html_`: return raw HTML as a string, or a tuple (see below).\n",
       "  - `_repr_json_`: return a JSONable dict, or a tuple (see below).\n",
       "  - `_repr_jpeg_`: return raw JPEG data, or a tuple (see below).\n",
       "  - `_repr_png_`: return raw PNG data, or a tuple (see below).\n",
       "  - `_repr_svg_`: return raw SVG data as a string, or a tuple (see below).\n",
       "  - `_repr_latex_`: return LaTeX commands in a string surrounded by \"$\",\n",
       "                    or a tuple (see below).\n",
       "  - `_repr_mimebundle_`: return a full mimebundle containing the mapping\n",
       "                         from all mimetypes to data.\n",
       "                         Use this for any mime-type not listed above.\n",
       "\n",
       "The above functions may also return the object's metadata alonside the\n",
       "data.  If the metadata is available, the functions will return a tuple\n",
       "containing the data and metadata, in that order.  If there is no metadata\n",
       "available, then the functions will return the data only.\n",
       "\n",
       "When you are directly writing your own classes, you can adapt them for\n",
       "display in IPython by following the above approach. But in practice, you\n",
       "often need to work with existing classes that you can't easily modify.\n",
       "\n",
       "You can refer to the documentation on integrating with the display system in\n",
       "order to register custom formatters for already existing types\n",
       "(:ref:`integrating_rich_display`).\n",
       "\n",
       ".. versionadded:: 5.4 display available without import\n",
       ".. versionadded:: 6.1 display available without import\n",
       "\n",
       "Since IPython 5.4 and 6.1 :func:`display` is automatically made available to\n",
       "the user without import. If you are using display in a document that might\n",
       "be used in a pure python context or with older version of IPython, use the\n",
       "following import at the top of your file::\n",
       "\n",
       "    from IPython.display import display\n",
       "\u001b[0;31mFile:\u001b[0m      ~/.conda/envs/otters/lib/python3.6/site-packages/IPython/core/display.py\n",
       "\u001b[0;31mType:\u001b[0m      function\n"
      ]
     },
     "metadata": {},
     "output_type": "display_data"
    }
   ],
   "source": [
    "display?"
   ]
  },
  {
   "cell_type": "code",
   "execution_count": null,
   "metadata": {},
   "outputs": [],
   "source": []
  }
 ],
 "metadata": {
  "kernelspec": {
   "display_name": "Python 3",
   "language": "python",
   "name": "python3"
  },
  "language_info": {
   "codemirror_mode": {
    "name": "ipython",
    "version": 3
   },
   "file_extension": ".py",
   "mimetype": "text/x-python",
   "name": "python",
   "nbconvert_exporter": "python",
   "pygments_lexer": "ipython3",
   "version": "3.6.12"
  }
 },
 "nbformat": 4,
 "nbformat_minor": 4
}
