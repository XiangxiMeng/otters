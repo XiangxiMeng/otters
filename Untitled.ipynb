{
 "cells": [
  {
   "cell_type": "code",
   "execution_count": 1,
   "metadata": {},
   "outputs": [],
   "source": [
    "from otters.sea_otter import incremental_computation, parallel_computation"
   ]
  },
  {
   "cell_type": "code",
   "execution_count": 2,
   "metadata": {},
   "outputs": [],
   "source": [
    "code = \"\"\"A = GET('aapl')\n",
    "B = GET('spx')\n",
    "pa = func(A)\n",
    "pb = func(B)\n",
    "\"\"\""
   ]
  },
  {
   "cell_type": "code",
   "execution_count": 4,
   "metadata": {},
   "outputs": [
    {
     "name": "stdout",
     "output_type": "stream",
     "text": [
      "A = GET('aapl')\n",
      "B = GET('spx')\n",
      "pa = func(A)\n",
      "pb = func(B)\n",
      "\n",
      "\n"
     ]
    }
   ],
   "source": [
    "print(incremental_computation('a = 1',code))"
   ]
  },
  {
   "cell_type": "code",
   "execution_count": 5,
   "metadata": {},
   "outputs": [
    {
     "name": "stdout",
     "output_type": "stream",
     "text": [
      "[\"A = GET('aapl')\\npa = func(A)\\n\\n\", \"B = GET('spx')\\npb = func(B)\\n\\n\"]\n"
     ]
    }
   ],
   "source": [
    "print(parallel_computation(code))"
   ]
  },
  {
   "cell_type": "code",
   "execution_count": 6,
   "metadata": {},
   "outputs": [],
   "source": [
    "old_code = \"\"\"stock = 'aapl'\n",
    "A = GET('299013764','FIXINGS')\n",
    "B = GET(\n",
    "    stock\n",
    "    )\n",
    "\"\"\"\n",
    "\n",
    "new_code = \"\"\"A = GET('299013764','FIXINGS')\n",
    "stock='t'\n",
    "B=GET(stock)\n",
    "D = new_func(A)\n",
    "C = func(A,D)\n",
    "\"\"\""
   ]
  },
  {
   "cell_type": "code",
   "execution_count": 3,
   "metadata": {},
   "outputs": [
    {
     "data": {
      "text/plain": [
       "\"stock='t'\\n\""
      ]
     },
     "execution_count": 3,
     "metadata": {},
     "output_type": "execute_result"
    }
   ],
   "source": [
    "incremental_computation(old_code, new_code)[0].get_code()"
   ]
  },
  {
   "cell_type": "code",
   "execution_count": 4,
   "metadata": {},
   "outputs": [
    {
     "data": {
      "text/plain": [
       "[[PythonNode(simple_stmt, [<ExprStmt: stock = 'aapl'@1,0>, <Newline: '\\n'>])]]"
      ]
     },
     "execution_count": 4,
     "metadata": {},
     "output_type": "execute_result"
    }
   ],
   "source": [
    "parallel_computation(old_code)"
   ]
  },
  {
   "cell_type": "code",
   "execution_count": 7,
   "metadata": {},
   "outputs": [],
   "source": [
    "import parso\n",
    "module = parso.parse(old_code)"
   ]
  },
  {
   "cell_type": "code",
   "execution_count": 8,
   "metadata": {},
   "outputs": [
    {
     "data": {
      "text/plain": [
       "\"stock = 'aapl'\\nA = GET('299013764','FIXINGS')\\nB = GET(\\n    stock\\n    )\\n\""
      ]
     },
     "execution_count": 8,
     "metadata": {},
     "output_type": "execute_result"
    }
   ],
   "source": [
    "module.get_code()"
   ]
  },
  {
   "cell_type": "code",
   "execution_count": 8,
   "metadata": {},
   "outputs": [
    {
     "data": {
      "text/plain": [
       "(1, 0)"
      ]
     },
     "execution_count": 8,
     "metadata": {},
     "output_type": "execute_result"
    }
   ],
   "source": [
    "module.children[0].start_pos"
   ]
  },
  {
   "cell_type": "code",
   "execution_count": 13,
   "metadata": {},
   "outputs": [
    {
     "data": {
      "text/plain": [
       "PythonNode(trailer, [<Operator: (>, <Name: stock@4,4>, <Operator: )>])"
      ]
     },
     "execution_count": 13,
     "metadata": {},
     "output_type": "execute_result"
    }
   ],
   "source": [
    "leaf.parent"
   ]
  },
  {
   "cell_type": "code",
   "execution_count": 16,
   "metadata": {},
   "outputs": [],
   "source": [
    "import jedi\n",
    "s = jedi.Script(old_code)\n",
    "l = s.get_references(4,6,scope='file')"
   ]
  },
  {
   "cell_type": "code",
   "execution_count": 20,
   "metadata": {},
   "outputs": [
    {
     "data": {
      "text/plain": [
       "\"stock = 'aapl'\\n\""
      ]
     },
     "execution_count": 20,
     "metadata": {},
     "output_type": "execute_result"
    }
   ],
   "source": [
    "l[0].parent().get_line_code()"
   ]
  },
  {
   "cell_type": "code",
   "execution_count": 22,
   "metadata": {},
   "outputs": [],
   "source": [
    "n = l[0]"
   ]
  },
  {
   "cell_type": "code",
   "execution_count": 24,
   "metadata": {},
   "outputs": [
    {
     "data": {
      "text/plain": [
       "['_inference_state',\n",
       " '_name',\n",
       " 'is_keyword',\n",
       " '_memoize_method_dct',\n",
       " '__module__',\n",
       " '__doc__',\n",
       " '__init__',\n",
       " 'desc_with_module',\n",
       " 'defined_names',\n",
       " 'is_definition',\n",
       " '__eq__',\n",
       " '__ne__',\n",
       " '__hash__',\n",
       " '_mapping',\n",
       " '_tuple_mapping',\n",
       " '_get_module_context',\n",
       " 'module_path',\n",
       " 'name',\n",
       " 'type',\n",
       " 'module_name',\n",
       " 'in_builtin_module',\n",
       " 'line',\n",
       " 'column',\n",
       " 'get_definition_start_position',\n",
       " 'get_definition_end_position',\n",
       " 'docstring',\n",
       " '_get_docstring',\n",
       " '_get_docstring_signature',\n",
       " 'description',\n",
       " 'full_name',\n",
       " 'is_stub',\n",
       " 'is_side_effect',\n",
       " 'goto',\n",
       " 'goto_assignments',\n",
       " '_goto',\n",
       " 'infer',\n",
       " '_infer',\n",
       " 'params',\n",
       " 'parent',\n",
       " '__repr__',\n",
       " 'get_line_code',\n",
       " '_get_signatures',\n",
       " 'get_signatures',\n",
       " 'execute',\n",
       " 'get_type_hint',\n",
       " '__dict__',\n",
       " '__weakref__',\n",
       " '__str__',\n",
       " '__getattribute__',\n",
       " '__setattr__',\n",
       " '__delattr__',\n",
       " '__lt__',\n",
       " '__le__',\n",
       " '__gt__',\n",
       " '__ge__',\n",
       " '__new__',\n",
       " '__reduce_ex__',\n",
       " '__reduce__',\n",
       " '__subclasshook__',\n",
       " '__init_subclass__',\n",
       " '__format__',\n",
       " '__sizeof__',\n",
       " '__dir__',\n",
       " '__class__']"
      ]
     },
     "execution_count": 24,
     "metadata": {},
     "output_type": "execute_result"
    }
   ],
   "source": [
    "n.__dir__()"
   ]
  },
  {
   "cell_type": "code",
   "execution_count": 28,
   "metadata": {},
   "outputs": [
    {
     "data": {
      "text/plain": [
       "(1, 2)"
      ]
     },
     "execution_count": 28,
     "metadata": {},
     "output_type": "execute_result"
    }
   ],
   "source": [
    "(1,2)[0:2]"
   ]
  },
  {
   "cell_type": "code",
   "execution_count": null,
   "metadata": {},
   "outputs": [],
   "source": []
  }
 ],
 "metadata": {
  "kernelspec": {
   "display_name": "Python 3",
   "language": "python",
   "name": "python3"
  },
  "language_info": {
   "codemirror_mode": {
    "name": "ipython",
    "version": 3
   },
   "file_extension": ".py",
   "mimetype": "text/x-python",
   "name": "python",
   "nbconvert_exporter": "python",
   "pygments_lexer": "ipython3",
   "version": "3.6.12"
  }
 },
 "nbformat": 4,
 "nbformat_minor": 4
}
