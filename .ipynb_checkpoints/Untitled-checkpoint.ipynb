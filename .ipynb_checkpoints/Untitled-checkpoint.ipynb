{
 "cells": [
  {
   "cell_type": "code",
   "execution_count": null,
   "metadata": {},
   "outputs": [],
   "source": [
    "%config Completer.use_jedi = False"
   ]
  },
  {
   "cell_type": "markdown",
   "metadata": {},
   "source": [
    "how to check if two nodes are equal\n",
    "\n",
    "1. if children, all children equal\n",
    "\n",
    "2. if not children, themselves equal"
   ]
  },
  {
   "cell_type": "code",
   "execution_count": 67,
   "metadata": {},
   "outputs": [],
   "source": [
    "import jedi\n",
    "import parso\n",
    "import copy"
   ]
  },
  {
   "cell_type": "code",
   "execution_count": null,
   "metadata": {},
   "outputs": [],
   "source": [
    "code = \"\"\"A = GET_SERIES('299013764', 'FIXINGS')\n",
    "B = LOG_CHANGE(A)[1:2]\n",
    "C = GET_SERIES('299013764', 'FIXINGS')\n",
    "\"\"\""
   ]
  },
  {
   "cell_type": "code",
   "execution_count": null,
   "metadata": {},
   "outputs": [],
   "source": [
    "code2 = \"\"\"A = GET_SERIES('299013764', 'FIXINGS')\n",
    "B = LOG_CHANGE(A)\n",
    "C = GET_SERIES('299013764', 'FIXINGS')\n",
    "\"\"\""
   ]
  },
  {
   "cell_type": "code",
   "execution_count": null,
   "metadata": {},
   "outputs": [],
   "source": [
    "grammar = parso.load_grammar(version='3.6')"
   ]
  },
  {
   "cell_type": "code",
   "execution_count": null,
   "metadata": {},
   "outputs": [],
   "source": [
    "module = grammar.parse(code)\n",
    "module2 = grammar.parse(code2)"
   ]
  },
  {
   "cell_type": "code",
   "execution_count": null,
   "metadata": {},
   "outputs": [],
   "source": [
    "s = [(module, 0)]\n",
    "while len(s) > 0:\n",
    "    node, sep = s.pop()\n",
    "    print('  '*sep, node)\n",
    "    if hasattr(node, 'children'):\n",
    "        for n in reversed(node.children):\n",
    "            s.append((n, sep + 1))"
   ]
  },
  {
   "cell_type": "code",
   "execution_count": 42,
   "metadata": {},
   "outputs": [
    {
     "data": {
      "text/plain": [
       "PythonNode(arglist, [<String: '299013764'>, <Operator: ,>, <String: 'FIXINGS'>])"
      ]
     },
     "execution_count": 42,
     "metadata": {},
     "output_type": "execute_result"
    }
   ],
   "source": [
    "module.get_leaf_for_position((1,16)).parent"
   ]
  },
  {
   "cell_type": "code",
   "execution_count": 43,
   "metadata": {},
   "outputs": [
    {
     "name": "stdout",
     "output_type": "stream",
     "text": [
      "<Name: A@1,0>\n",
      "<Operator: =>\n",
      "<Name: GET_SERIES@1,4>\n",
      "<Operator: (>\n",
      "<String: '299013764'>\n",
      "<Operator: ,>\n",
      "<String: 'FIXINGS'>\n",
      "<Operator: )>\n",
      "<Newline: '\\n'>\n",
      "<Name: B@2,0>\n",
      "<Operator: =>\n",
      "<Name: LOG_CHANGE@2,4>\n",
      "<Operator: (>\n",
      "<Name: A@2,15>\n",
      "<Operator: )>\n",
      "<Operator: [>\n",
      "<Number: 1>\n",
      "<Operator: :>\n",
      "<Number: 2>\n",
      "<Operator: ]>\n",
      "<Newline: '\\n'>\n",
      "<Name: C@3,0>\n",
      "<Operator: =>\n",
      "<Name: GET_SERIES@3,4>\n",
      "<Operator: (>\n",
      "<String: '299013764'>\n",
      "<Operator: ,>\n",
      "<String: 'FIXINGS'>\n",
      "<Operator: )>\n",
      "<Newline: '\\n'>\n",
      "<EndMarker: prefix='' end_pos=(4, 0)>\n"
     ]
    }
   ],
   "source": [
    "leaf = module.get_first_leaf()\n",
    "while leaf is not None:\n",
    "    print(leaf)\n",
    "    leaf = leaf.get_next_leaf()"
   ]
  },
  {
   "cell_type": "code",
   "execution_count": 45,
   "metadata": {},
   "outputs": [
    {
     "data": {
      "text/plain": [
       "False"
      ]
     },
     "execution_count": 45,
     "metadata": {},
     "output_type": "execute_result"
    }
   ],
   "source": [
    "('ha',1)==('h1a',1)"
   ]
  },
  {
   "cell_type": "code",
   "execution_count": 79,
   "metadata": {},
   "outputs": [],
   "source": [
    "def lev(a, b, equal_func=lambda x,y : x==y, ops=[]):\n",
    "    if len(a) == 0:\n",
    "        return (len(b), ops)\n",
    "    if len(b) == 0:\n",
    "        return (len(a), ops)\n",
    "    if equal_func(a[0], b[0]):\n",
    "        return (lev(a[1:], b[1:], equal_func, ops)[0], ops)\n",
    "    return (1 + min(\n",
    "        lev(a[1:],b,equal_func,ops+[f'delete {a[0]}']),\n",
    "        lev(a,b[1:],equal_func,ops+[f'add {b[0]}']),\n",
    "        lev(a[1:],b[1:],equal_func,ops+[f'replace {a[0]} with {b[0]}'])\n",
    "    , key=lambda x:x[0])[0], ops)"
   ]
  },
  {
   "cell_type": "code",
   "execution_count": 80,
   "metadata": {},
   "outputs": [
    {
     "data": {
      "text/plain": [
       "(3, [])"
      ]
     },
     "execution_count": 80,
     "metadata": {},
     "output_type": "execute_result"
    }
   ],
   "source": [
    "lev('kitten','sitting')"
   ]
  },
  {
   "cell_type": "code",
   "execution_count": 69,
   "metadata": {},
   "outputs": [
    {
     "data": {
      "text/plain": [
       "[1]"
      ]
     },
     "execution_count": 69,
     "metadata": {},
     "output_type": "execute_result"
    }
   ],
   "source": [
    "[]+[1]"
   ]
  },
  {
   "cell_type": "code",
   "execution_count": null,
   "metadata": {},
   "outputs": [],
   "source": []
  }
 ],
 "metadata": {
  "kernelspec": {
   "display_name": "Python 3",
   "language": "python",
   "name": "python3"
  },
  "language_info": {
   "codemirror_mode": {
    "name": "ipython",
    "version": 3
   },
   "file_extension": ".py",
   "mimetype": "text/x-python",
   "name": "python",
   "nbconvert_exporter": "python",
   "pygments_lexer": "ipython3",
   "version": "3.6.12"
  }
 },
 "nbformat": 4,
 "nbformat_minor": 4
}
