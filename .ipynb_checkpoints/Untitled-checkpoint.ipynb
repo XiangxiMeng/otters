{
 "cells": [
  {
   "cell_type": "code",
   "execution_count": 2,
   "metadata": {},
   "outputs": [],
   "source": [
    "from redis import Redis"
   ]
  },
  {
   "cell_type": "code",
   "execution_count": null,
   "metadata": {},
   "outputs": [],
   "source": [
    "from otters.sea_otter import incremental_computation"
   ]
  },
  {
   "cell_type": "code",
   "execution_count": 4,
   "metadata": {},
   "outputs": [],
   "source": [
    "redis_conn = Redis(host='mengtest.redis.cache.windows.net', port=6380, db=3, ssl=True,\n",
    "                         password='uolxkypkApuInqzE8s9uUkFecd6wDkrcudpxGWSXHCY=')"
   ]
  },
  {
   "cell_type": "code",
   "execution_count": 5,
   "metadata": {},
   "outputs": [],
   "source": [
    "redis_conn.get('x')"
   ]
  },
  {
   "cell_type": "code",
   "execution_count": 29,
   "metadata": {},
   "outputs": [],
   "source": [
    "old_code = \"\"\"stock = 'aapl'\n",
    "A = GET('299013764','FIXINGS')\n",
    "B=GET(stock)\n",
    "p = {\"a\":1, \"b\": 2}\n",
    "C = func(A,B)\n",
    "D = new_func(A)\n",
    "E = a_func(B,D)\n",
    "F = b_func(p['a'])\n",
    "\"\"\"\n",
    "\n",
    "new_code = \"\"\"A = GET('299013764','FIXINGS')\n",
    "stock='t'\n",
    "B=GET(stock)\n",
    "C = func(A,B)\n",
    "D = new_func(A)\n",
    "p = {\"a\":2, \"b\": 2}\n",
    "F = b_func(p['a'])\n",
    "\"\"\""
   ]
  },
  {
   "cell_type": "code",
   "execution_count": 30,
   "metadata": {},
   "outputs": [
    {
     "data": {
      "text/plain": [
       "[PythonNode(simple_stmt, [<ExprStmt: stock='t'@2,0>, <Newline: '\\n'>]),\n",
       " PythonNode(simple_stmt, [<ExprStmt: B=GET(stock)@3,0>, <Newline: '\\n'>]),\n",
       " PythonNode(simple_stmt, [<ExprStmt: C = func(A,B)@4,0>, <Newline: '\\n'>]),\n",
       " PythonNode(simple_stmt, [<ExprStmt: p = {\"a\":2, \"b\": 2}@6,0>, <Newline: '\\n'>]),\n",
       " PythonNode(simple_stmt, [<ExprStmt: F = b_func(p['a'])@7,0>, <Newline: '\\n'>])]"
      ]
     },
     "execution_count": 30,
     "metadata": {},
     "output_type": "execute_result"
    }
   ],
   "source": [
    "incremental_computation(old_code, new_code)"
   ]
  },
  {
   "cell_type": "code",
   "execution_count": 12,
   "metadata": {},
   "outputs": [
    {
     "name": "stdout",
     "output_type": "stream",
     "text": [
      "\n",
      "\n"
     ]
    }
   ],
   "source": [
    "import parso \n",
    "\n",
    "print(parso.parse(\"\"\"a=\"1\" \n",
    "\"\"\").children[0].get_last_leaf().value)"
   ]
  },
  {
   "cell_type": "code",
   "execution_count": null,
   "metadata": {},
   "outputs": [],
   "source": []
  }
 ],
 "metadata": {
  "kernelspec": {
   "display_name": "Python 3",
   "language": "python",
   "name": "python3"
  },
  "language_info": {
   "codemirror_mode": {
    "name": "ipython",
    "version": 3
   },
   "file_extension": ".py",
   "mimetype": "text/x-python",
   "name": "python",
   "nbconvert_exporter": "python",
   "pygments_lexer": "ipython3",
   "version": "3.6.12"
  }
 },
 "nbformat": 4,
 "nbformat_minor": 4
}
